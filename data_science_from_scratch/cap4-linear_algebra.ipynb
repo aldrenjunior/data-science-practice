{
 "cells": [
  {
   "cell_type": "markdown",
   "id": "c3ac9cd0",
   "metadata": {},
   "source": [
    "## Algebra Linear"
   ]
  },
  {
   "cell_type": "markdown",
   "id": "799911c9",
   "metadata": {},
   "source": [
    "Algebra linear é o ramo da matemática que calcula espaços vetoriais, abragendo diversos temas que são fundamentais para conceitos e técnicas de data science"
   ]
  },
  {
   "cell_type": "markdown",
   "id": "ea66a785",
   "metadata": {},
   "source": [
    "### Vetores"
   ]
  },
  {
   "cell_type": "code",
   "execution_count": 44,
   "id": "cd666ab7",
   "metadata": {},
   "outputs": [],
   "source": [
    "from typing import List\n",
    "\n",
    "Vector = List[float]"
   ]
  },
  {
   "cell_type": "code",
   "execution_count": null,
   "id": "91c32b78",
   "metadata": {},
   "outputs": [],
   "source": [
    "def add(v: Vector, w: Vector) -> Vector:\n",
    "    \"\"\"Add the corresponding elements\"\"\"\n",
    "    assert len(v) == len(w), \"vector must be the same length\"\n",
    "    \n",
    "    return [v_i + w_i for v_i, w_i in zip(v, w)]"
   ]
  },
  {
   "cell_type": "code",
   "execution_count": 4,
   "id": "843eef21",
   "metadata": {},
   "outputs": [],
   "source": [
    "assert add([1, 2, 3], [4, 5, 6]) == [5, 7, 9]"
   ]
  },
  {
   "cell_type": "code",
   "execution_count": 39,
   "id": "f34e595b",
   "metadata": {},
   "outputs": [],
   "source": [
    "def subtrac(v: Vector, w: Vector) -> Vector:\n",
    "    \"\"\"Subtract the corresponding elements\"\"\"\n",
    "    \n",
    "    assert len(v) == len(w), \"vector must be the same length\"\n",
    "    \n",
    "    return [v_i - w_i for v_i, w_i in zip(v, w)]"
   ]
  },
  {
   "cell_type": "code",
   "execution_count": 40,
   "id": "55a25c5d",
   "metadata": {},
   "outputs": [],
   "source": [
    "assert subtrac([5, 7, 9], [4, 5, 6]) == [1, 2, 3]"
   ]
  },
  {
   "cell_type": "code",
   "execution_count": 13,
   "id": "50af9bcb",
   "metadata": {},
   "outputs": [],
   "source": [
    "# Soma todos os elementos correspondentes\n",
    "\n",
    "def sum_vector(vectors: List[Vector]) -> Vector:\n",
    "    \"\"\"Sum all corresponding elements\"\"\"\n",
    "    \n",
    "    assert vectors, \"no vectors provided!\"\n",
    "    \n",
    "    num_elements = len(vectors[0])\n",
    "    assert all(len(v) == num_elements for v in vectors), \"differents sizes!\"\n",
    "    \n",
    "    return [sum(vector[i] for vector in vectors) for i in range(num_elements)]"
   ]
  },
  {
   "cell_type": "code",
   "execution_count": 14,
   "id": "1ab61973",
   "metadata": {},
   "outputs": [],
   "source": [
    "assert sum_vector([[1,2], [3,4], [5,6], [7,8]]) == [16, 20]"
   ]
  },
  {
   "cell_type": "code",
   "execution_count": 15,
   "id": "1a70cc65",
   "metadata": {},
   "outputs": [],
   "source": [
    "def scalar_multiply(c: float, v: Vector) -> Vector:\n",
    "    \"\"\"Multiplies each element by c\"\"\"\n",
    "    \n",
    "    return [c * v_i for v_i in v]"
   ]
  },
  {
   "cell_type": "code",
   "execution_count": 16,
   "id": "839542fd",
   "metadata": {},
   "outputs": [],
   "source": [
    "assert scalar_multiply(2, [1, 2, 3]) == [2, 4, 6]"
   ]
  },
  {
   "cell_type": "code",
   "execution_count": 19,
   "id": "0bf533e9",
   "metadata": {},
   "outputs": [],
   "source": [
    "def vector_mean(vectors: List[Vector]) -> Vector:\n",
    "    \"\"\"Computes the average of the elements\"\"\"\n",
    "    \n",
    "    n = len(vectors)\n",
    "    return scalar_multiply(1/n, sum_vector(vectors))"
   ]
  },
  {
   "cell_type": "code",
   "execution_count": 20,
   "id": "3980fa2f",
   "metadata": {},
   "outputs": [],
   "source": [
    "assert vector_mean([[1,2], [3,4], [5,6]]) == [3,4]   # (9,12)/3 = (3,4)"
   ]
  },
  {
   "cell_type": "code",
   "execution_count": 25,
   "id": "241b6c82",
   "metadata": {},
   "outputs": [],
   "source": [
    "def dot(v: Vector, w: Vector) -> float:\n",
    "    \"\"\"Computes v_1 * w_1 + ... + v_n * w_n\"\"\"\n",
    "    \n",
    "    assert len(v) == len(w), \"vectors must to be same length\"\n",
    "    \n",
    "    return sum(v_i * w_i for v_i, w_i in zip(v, w))"
   ]
  },
  {
   "cell_type": "code",
   "execution_count": 26,
   "id": "f2a8a181",
   "metadata": {},
   "outputs": [],
   "source": [
    "assert dot([1,2,3], [4,5,6]) == 32    # (1*4)+(2*5)+(3*6) = 32"
   ]
  },
  {
   "cell_type": "code",
   "execution_count": 27,
   "id": "724d0f75",
   "metadata": {},
   "outputs": [],
   "source": [
    "def sum_of_squares(v: Vector) -> float:\n",
    "    \"\"\"Return v_1**2 + ... + v_n**2 \"\"\"\n",
    "    \n",
    "    return dot(v, v)"
   ]
  },
  {
   "cell_type": "code",
   "execution_count": 32,
   "id": "ca63753b",
   "metadata": {},
   "outputs": [],
   "source": [
    "assert sum_of_squares([2,2,3]) == 17  # (2*2)+(2*2)+(3*3) = 17"
   ]
  },
  {
   "cell_type": "code",
   "execution_count": 36,
   "id": "7c968b96",
   "metadata": {},
   "outputs": [],
   "source": [
    "import math\n",
    "\n",
    "def magnitude(v: Vector) -> float:\n",
    "    \"\"\"Return a magnitude (length) of v \"\"\"\n",
    "    \n",
    "    return math.sqrt(sum_of_squares(v))"
   ]
  },
  {
   "cell_type": "code",
   "execution_count": 37,
   "id": "4cb86716",
   "metadata": {},
   "outputs": [],
   "source": [
    "assert magnitude([3,4]) == 5   # triângulo pitagorico"
   ]
  },
  {
   "cell_type": "markdown",
   "id": "4138ecae",
   "metadata": {},
   "source": [
    "### Calcular a distância entre dois vetores"
   ]
  },
  {
   "cell_type": "code",
   "execution_count": 41,
   "id": "e5d97f48",
   "metadata": {},
   "outputs": [],
   "source": [
    "def squared_distance(v: Vector, w: Vector) -> float:\n",
    "    \"\"\"Compute (v_1 - w_1)**2 + ... + (v_n - w_n)**2\"\"\"\n",
    "    \n",
    "    return sum_of_square(subtrac(v))\n",
    "\n",
    "def distance(v: Vector, w: Vector) -> float:\n",
    "    \"\"\"Compute v and w distance\"\"\"\n",
    "    \n",
    "    return math.sqrt(squared_distance(v, w))"
   ]
  },
  {
   "cell_type": "code",
   "execution_count": 42,
   "id": "7d9f77d7",
   "metadata": {},
   "outputs": [],
   "source": [
    "def distance2(v: Vector, w: Vector) -> float:\n",
    "    \n",
    "    return magnitude(subtrac(v, w))"
   ]
  },
  {
   "cell_type": "markdown",
   "id": "cf384087",
   "metadata": {},
   "source": [
    "### Matrizes"
   ]
  },
  {
   "cell_type": "code",
   "execution_count": 43,
   "id": "1bb7f8e8",
   "metadata": {},
   "outputs": [],
   "source": [
    "from typing import List, Tuple\n",
    "\n",
    "Matrix = List[List[float]]"
   ]
  },
  {
   "cell_type": "code",
   "execution_count": 45,
   "id": "cd6247e9",
   "metadata": {},
   "outputs": [],
   "source": [
    "def shape(A: Matrix) -> Tuple[int, int]:\n",
    "    \"\"\"Return number of rows and number of columns\"\"\"\n",
    "    \n",
    "    num_rows = len(A)\n",
    "    num_cols = len(A[0]) if A else 0    # numero de elementos da primeira linha\n",
    "    \n",
    "    return num_rows, num_cols"
   ]
  },
  {
   "cell_type": "code",
   "execution_count": 47,
   "id": "290e7503",
   "metadata": {},
   "outputs": [],
   "source": [
    "assert shape([[1,2,3], [4,5,6]]) == (2,3)"
   ]
  },
  {
   "cell_type": "code",
   "execution_count": 49,
   "id": "8fe7fcd6",
   "metadata": {},
   "outputs": [],
   "source": [
    "x = [[1, 2, 3], # 0,0\n",
    "[4, 5, 6]] # 0,1"
   ]
  },
  {
   "cell_type": "code",
   "execution_count": 53,
   "id": "4d023989",
   "metadata": {},
   "outputs": [
    {
     "data": {
      "text/plain": [
       "2"
      ]
     },
     "execution_count": 53,
     "metadata": {},
     "output_type": "execute_result"
    }
   ],
   "source": [
    "x[0]"
   ]
  },
  {
   "cell_type": "code",
   "execution_count": 71,
   "id": "db712384",
   "metadata": {},
   "outputs": [],
   "source": [
    "def get_row(A: Matrix, i: int) -> Vector:\n",
    "    \"\"\"Return row i of matrix A (as a vector)\"\"\"\n",
    "    \n",
    "    return A[i]"
   ]
  },
  {
   "cell_type": "code",
   "execution_count": 73,
   "id": "a0fdea4f",
   "metadata": {},
   "outputs": [],
   "source": [
    "assert get_row([[1,2,3], [4,5,6]], 1) == [4,5,6]"
   ]
  },
  {
   "cell_type": "code",
   "execution_count": 74,
   "id": "66adb8c8",
   "metadata": {},
   "outputs": [],
   "source": [
    "def get_column(A: Matrix, j: int) -> Vector:\n",
    "    \"\"\"Return column i of matrix A (as a vector)\"\"\"\n",
    "    \n",
    "    return [A_i[j] for A_i in A]"
   ]
  },
  {
   "cell_type": "code",
   "execution_count": 78,
   "id": "31a9ecd0",
   "metadata": {},
   "outputs": [],
   "source": [
    "assert get_column ([[1,2,3], [4,5,6]], 1) == [2, 5]"
   ]
  },
  {
   "cell_type": "code",
   "execution_count": 82,
   "id": "20133cec",
   "metadata": {},
   "outputs": [],
   "source": [
    "from typing import Callable\n",
    "\n",
    "def make_matrix(num_rows: int, num_cols: int, entry_fn: Callable[[int, int], float]) -> Matrix:\n",
    "    \"\"\"Return a matrix num_rows x num_cols\"\"\"\n",
    "    \n",
    "    return [[entry_fn(i, j)\n",
    "            for j in range(num_cols)]\n",
    "            for i in range(num_rows)]"
   ]
  },
  {
   "cell_type": "code",
   "execution_count": 83,
   "id": "03bd67d6",
   "metadata": {},
   "outputs": [
    {
     "data": {
      "text/plain": [
       "[[0, 1, 2, 3], [1, 2, 3, 4], [2, 3, 4, 5]]"
      ]
     },
     "execution_count": 83,
     "metadata": {},
     "output_type": "execute_result"
    }
   ],
   "source": [
    "make_matrix(3, 4, lambda i, j: i+j)"
   ]
  },
  {
   "cell_type": "code",
   "execution_count": 84,
   "id": "7c9d0ab9",
   "metadata": {},
   "outputs": [],
   "source": [
    "def identify_matrix(n: int) -> Matrix:\n",
    "    \"\"\"Return a identify matrix num_rows x num_cols\"\"\"\n",
    "    \n",
    "    return make_matrix(n, n, lambda i, j: 1 if x == j else 0)"
   ]
  },
  {
   "cell_type": "code",
   "execution_count": 85,
   "id": "456c94d0",
   "metadata": {},
   "outputs": [
    {
     "data": {
      "text/plain": [
       "[[0, 0, 0, 0, 0],\n",
       " [0, 0, 0, 0, 0],\n",
       " [0, 0, 0, 0, 0],\n",
       " [0, 0, 0, 0, 0],\n",
       " [0, 0, 0, 0, 0]]"
      ]
     },
     "execution_count": 85,
     "metadata": {},
     "output_type": "execute_result"
    }
   ],
   "source": [
    "identify_matrix(5)"
   ]
  }
 ],
 "metadata": {
  "kernelspec": {
   "display_name": "Python 3 (ipykernel)",
   "language": "python",
   "name": "python3"
  },
  "language_info": {
   "codemirror_mode": {
    "name": "ipython",
    "version": 3
   },
   "file_extension": ".py",
   "mimetype": "text/x-python",
   "name": "python",
   "nbconvert_exporter": "python",
   "pygments_lexer": "ipython3",
   "version": "3.10.9"
  }
 },
 "nbformat": 4,
 "nbformat_minor": 5
}

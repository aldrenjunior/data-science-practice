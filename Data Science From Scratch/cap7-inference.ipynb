{
 "cells": [
  {
   "cell_type": "markdown",
   "id": "a78b4d4d",
   "metadata": {},
   "source": [
    "## Inferência"
   ]
  },
  {
   "cell_type": "markdown",
   "id": "8ba52262",
   "metadata": {},
   "source": [
    "#### Teste estatístico de hipóteses"
   ]
  },
  {
   "cell_type": "code",
   "execution_count": 2,
   "id": "af273d9c",
   "metadata": {},
   "outputs": [],
   "source": [
    "from typing import Tuple\n",
    "import math\n",
    "\n",
    "def normal_approximation_to_binomial(n: int, p: float) -> Tuple[float, float]:\n",
    "    \"\"\"Returns mu and sigma corresponding to a Binomial(n, p)\"\"\"\n",
    "    \n",
    "    mu = p * n\n",
    "    sigma = math.sqrt(p * (1 - p) * n)\n",
    "    \n",
    "    return mu, sigma"
   ]
  },
  {
   "cell_type": "code",
   "execution_count": 3,
   "id": "a3305201",
   "metadata": {},
   "outputs": [],
   "source": [
    "def normal_cdf(x: float, mu: float = 0, sigma: float = 1) -> float:\n",
    "    return (1 + math.erf((x - mu) / math.sqrt(2) / sigma)) / 2\n",
    "\n",
    "# The normal cdf is the probability the variable is below a threshold\n",
    "normal_probability_below = normal_cdf"
   ]
  },
  {
   "cell_type": "code",
   "execution_count": 4,
   "id": "6c3b6efc",
   "metadata": {},
   "outputs": [],
   "source": [
    "# It's above the threshold if it's not below the threshold\n",
    "def normal_probability_above(lo: float,\n",
    "                             mu: float = 0,\n",
    "                             sigma: float = 1) -> float:\n",
    "    \"\"\"The probability that a N (mu, sigma) is greater than lo.\"\"\"\n",
    "    \n",
    "    return 1 - normal_cdf(lo, mu, sigma)"
   ]
  },
  {
   "cell_type": "code",
   "execution_count": 5,
   "id": "d5460e4e",
   "metadata": {},
   "outputs": [],
   "source": [
    "# It's between if it's less than hi, but not less than lo\n",
    "def normal_probability_between(lo: float,\n",
    "                               hi: float,\n",
    "                               mu: float = 0,\n",
    "                               sigma: float = 1) -> float:\n",
    "    \"\"\"The probability that N(mu, sigma) is between lo and hi\"\"\"\n",
    "    \n",
    "    return normal_cdf(hi, mu, sigma) - normal_cdf(lo, mu, sigma)"
   ]
  },
  {
   "cell_type": "code",
   "execution_count": 6,
   "id": "6aa48eee",
   "metadata": {},
   "outputs": [],
   "source": [
    "# It's outside if it's not between\n",
    "def normal_probability_outside(lo: float,\n",
    "                               hi: float,\n",
    "                               mu: float = 0,\n",
    "                               sigma: float = 1) -> float:\n",
    "    \"\"\"The probability that N(mu, sigma) is not between lo and hi\"\"\"\n",
    "    \n",
    "    return 1 - normal_probability_between(lo, hi, mu, sigma)"
   ]
  },
  {
   "cell_type": "markdown",
   "id": "e13285e3",
   "metadata": {},
   "source": [
    "We can also do the opposite and find the region outside the threshold or the interval (symmetric) around the mean that is associated with a given level of probability."
   ]
  },
  {
   "cell_type": "code",
   "execution_count": 7,
   "id": "b194b66e",
   "metadata": {},
   "outputs": [],
   "source": [
    "def inversal_normal_cdf(p: float,\n",
    "                        mu: float = 0,\n",
    "                        sigma: float = 1,\n",
    "                        tolerance: float = 0.00001) -> float:\n",
    "    \"\"\"Find approximate inverse using binary search\"\"\"\n",
    "    \n",
    "    if mu != 0 or sigma != 1:\n",
    "        return mu + sigma * inversal_normal_cdf(p, tolerance=tolerance)\n",
    "    \n",
    "    low_z = -10.0          # normal_cdf(-10) is (very close to) 0\n",
    "    hi_z = 10.0            # normal_cdf(10) is (very close to) 1\n",
    "    \n",
    "    while hi_z - low_z > tolerance:\n",
    "        mid_z = (low_z + hi_z) / 2\n",
    "        mid_p = normal_cdf(mid_z)\n",
    "        \n",
    "        if mid_p < p:\n",
    "            low_z = mid_z\n",
    "        else:\n",
    "            hi_z = mid_z\n",
    "    \n",
    "    return mid_z"
   ]
  },
  {
   "cell_type": "code",
   "execution_count": 8,
   "id": "391467e7",
   "metadata": {},
   "outputs": [],
   "source": [
    "def normal_upper_bound(probability: float,\n",
    "                       mu: float = 0,\n",
    "                       sigma: float = 1) -> float:\n",
    "    \"\"\"Returns the z for which P(Z <= z) = probability\"\"\"\n",
    "    \n",
    "    return inversal_normal_cdf(probability, mu, sigma)"
   ]
  },
  {
   "cell_type": "code",
   "execution_count": 9,
   "id": "8a00738e",
   "metadata": {},
   "outputs": [],
   "source": [
    "def normal_lower_bound(probability: float,\n",
    "                       mu: float = 0,\n",
    "                       sigma: float = 1) -> float:\n",
    "    \"\"\"Returns the z for which P(Z >= z) = probability\"\"\"\n",
    "    \n",
    "    return inversal_normal_cdf(1 - probability, mu, sigma)"
   ]
  },
  {
   "cell_type": "code",
   "execution_count": 10,
   "id": "6fd4e954",
   "metadata": {},
   "outputs": [],
   "source": [
    "def normal_two_sided_bounds(probability: float, \n",
    "                            mu: float = 0,\n",
    "                            sigma: float = 1) -> Tuple[float, float]:\n",
    "    \"\"\"Returns the symetric (about the man) bounds that contain\n",
    "    that especified probability\"\"\"\n",
    "    \n",
    "    tail_probability = (1 - probability) / 2\n",
    "    \n",
    "    # upper bound should have tail_probability above it\n",
    "    upper_bound = normal_lower_bound(tail_probability, mu, sigma)\n",
    "    \n",
    "    # lower bound should have tail_probability below it\n",
    "    lower_bound = normal_upper_bound(tail_probability, mu, sigma)\n",
    "    \n",
    "    return lower_bound, upper_bound"
   ]
  },
  {
   "cell_type": "code",
   "execution_count": 11,
   "id": "e70868e9",
   "metadata": {},
   "outputs": [],
   "source": [
    "mu_0, sigma_0 = normal_approximation_to_binomial(1000, 0.5)\n",
    "\n",
    "assert mu_0 == 500\n",
    "assert 15.8 < sigma_0 < 15.9"
   ]
  },
  {
   "cell_type": "code",
   "execution_count": 12,
   "id": "4e9c3985",
   "metadata": {},
   "outputs": [],
   "source": [
    "# significância (469, 531)\n",
    "\n",
    "lower_bound, upper_bound = normal_two_sided_bounds(0.95, mu_0, sigma_0)\n",
    "\n",
    "assert 468.5 < lower_bound < 469.5\n",
    "assert 530.5 < upper_bound < 531.5"
   ]
  },
  {
   "cell_type": "code",
   "execution_count": 13,
   "id": "7d0f1089",
   "metadata": {},
   "outputs": [
    {
     "name": "stdout",
     "output_type": "stream",
     "text": [
      "0.8865480012953671\n"
     ]
    }
   ],
   "source": [
    "# p = 0.5\n",
    "\n",
    "lo, hi = normal_two_sided_bounds(0.95, mu_0, sigma_0)\n",
    "\n",
    "mu_1, sigma_1 = normal_approximation_to_binomial(1000, 0.55)\n",
    "\n",
    "# um erro tipo 2 indica a rejeição da hipotese nula\n",
    "\n",
    "type_2_probability = normal_probability_between(lo, hi, mu_1, sigma_1)\n",
    "\n",
    "power = 1 - type_2_probability\n",
    "\n",
    "assert 0.886 < power < 0.888\n",
    "\n",
    "print(power)"
   ]
  },
  {
   "cell_type": "code",
   "execution_count": 14,
   "id": "7233a37c",
   "metadata": {},
   "outputs": [
    {
     "name": "stdout",
     "output_type": "stream",
     "text": [
      "526.0073585242053 0.9363794803307173\n"
     ]
    }
   ],
   "source": [
    "hi = normal_upper_bound(0.95, mu_0, sigma_0)\n",
    "\n",
    "type_2_probability = normal_probability_below(hi, mu_1, sigma_1)\n",
    "\n",
    "power = 1 - type_2_probability \n",
    "\n",
    "assert 526 < hi < 526.1\n",
    "assert 0.9363 < power < 0.9364\n",
    "\n",
    "print(hi, power)"
   ]
  },
  {
   "cell_type": "markdown",
   "id": "94e4ebd6",
   "metadata": {},
   "source": [
    "#### p-Values\n",
    "\n",
    "Em vez de escolher limites com base em um limiar de probabilidade, é possível computar a probabilidade de observar um valor pelo menos tão extremo quanto o que já observamos de fato."
   ]
  },
  {
   "cell_type": "code",
   "execution_count": 15,
   "id": "85ed085e",
   "metadata": {},
   "outputs": [],
   "source": [
    "def two_sided_p_value(x: float, mu: float = 0, sigma: float = 1) -> float:\n",
    "    \"\"\"How likely are we to see a value at least as extreme as x\n",
    "    (in either ditection) if out values are from a N(mu, sigma)?\"\"\"\n",
    "    \n",
    "    if x >= mu:\n",
    "        # x is greater than the mean, so the tail is everything greater than x\n",
    "        return 2 * normal_probability_above(x, mu, sigma)\n",
    "    else:\n",
    "        # x is less than the man, so the tail is everything less than x\n",
    "        return 2 * normal_probability_below(x, mu, sigma)"
   ]
  },
  {
   "cell_type": "code",
   "execution_count": 17,
   "id": "768b8323",
   "metadata": {},
   "outputs": [
    {
     "data": {
      "text/plain": [
       "0.06207721579598835"
      ]
     },
     "execution_count": 17,
     "metadata": {},
     "output_type": "execute_result"
    }
   ],
   "source": [
    "# we use 529.5 and not 530 because of continuity correction (the book has an explanation link)\n",
    "\n",
    "two_sided_p_value(529.5, mu_0, sigma_0)"
   ]
  },
  {
   "cell_type": "code",
   "execution_count": 30,
   "id": "cffe104d",
   "metadata": {},
   "outputs": [
    {
     "name": "stdout",
     "output_type": "stream",
     "text": [
      "62\n"
     ]
    }
   ],
   "source": [
    "# simulation\n",
    "\n",
    "import random\n",
    "\n",
    "extreme_value_count = 0\n",
    "\n",
    "for _ in range(1000):\n",
    "    num_heads = sum(1 if random.random() < 0.5 else 0\n",
    "                    for _ in range(1000))\n",
    "    if num_heads >= 530 or num_heads <= 470:\n",
    "        extreme_value_count += 1\n",
    "\n",
    "assert 59 < extreme_value_count < 65\n",
    "\n",
    "print(f\"{extreme_value_count}\")"
   ]
  },
  {
   "cell_type": "code",
   "execution_count": 31,
   "id": "f26fb55e",
   "metadata": {},
   "outputs": [
    {
     "data": {
      "text/plain": [
       "0.046345287837786575"
      ]
     },
     "execution_count": 31,
     "metadata": {},
     "output_type": "execute_result"
    }
   ],
   "source": [
    "two_sided_p_value(531.5, mu_0, sigma_0)"
   ]
  },
  {
   "cell_type": "code",
   "execution_count": 33,
   "id": "2dded449",
   "metadata": {},
   "outputs": [],
   "source": [
    "upper_p_value = normal_probability_above\n",
    "lower_p_value = normal_probability_below"
   ]
  },
  {
   "cell_type": "code",
   "execution_count": 35,
   "id": "5ebda563",
   "metadata": {},
   "outputs": [
    {
     "data": {
      "text/plain": [
       "0.06062885772582072"
      ]
     },
     "execution_count": 35,
     "metadata": {},
     "output_type": "execute_result"
    }
   ],
   "source": [
    "# 525 C\n",
    "\n",
    "upper_p_value(524.5, mu_0, sigma_0) # 0.06062885772582072"
   ]
  },
  {
   "cell_type": "code",
   "execution_count": 39,
   "id": "20c8ce6c",
   "metadata": {},
   "outputs": [
    {
     "data": {
      "text/plain": [
       "0.04686839508859242"
      ]
     },
     "execution_count": 39,
     "metadata": {},
     "output_type": "execute_result"
    }
   ],
   "source": [
    "upper_p_value(526.5, mu_0, sigma_0) # 0.04686839508859242"
   ]
  },
  {
   "cell_type": "markdown",
   "id": "ca5334f6",
   "metadata": {},
   "source": [
    "#### Intervalos de confiança"
   ]
  },
  {
   "cell_type": "code",
   "execution_count": 40,
   "id": "b96b6553",
   "metadata": {},
   "outputs": [],
   "source": [
    "# for 525 C\n",
    "\n",
    "p_hat = 525 / 1000\n",
    "mu = p_hat\n",
    "sigma = math.sqrt(p_hat * (1 - p_hat) / 1000)"
   ]
  },
  {
   "cell_type": "code",
   "execution_count": 43,
   "id": "010dc297",
   "metadata": {},
   "outputs": [
    {
     "data": {
      "text/plain": [
       "(0.4940490278129096, 0.5559509721870904)"
      ]
     },
     "execution_count": 43,
     "metadata": {},
     "output_type": "execute_result"
    }
   ],
   "source": [
    "# a moeda não será viciada se, assumindo que a probabilidade é 0.5 estar contida no intervalo de confiança\n",
    "\n",
    "normal_two_sided_bounds(0.95, mu, sigma) # (0.4940490278129096, 0.5559509721870904)"
   ]
  },
  {
   "cell_type": "code",
   "execution_count": 46,
   "id": "df9111e2",
   "metadata": {},
   "outputs": [
    {
     "data": {
      "text/plain": [
       "(0.5091095927295919, 0.5708904072704082)"
      ]
     },
     "execution_count": 46,
     "metadata": {},
     "output_type": "execute_result"
    }
   ],
   "source": [
    "# for 540 C\n",
    "\n",
    "p_hat = 540 / 1000\n",
    "mu = p_hat\n",
    "sigma = math.sqrt(p_hat * (1 - p_hat) / 1000)\n",
    "\n",
    "normal_two_sided_bounds(0.95, mu, sigma) # (0.5091095927295919, 0.5708904072704082)\n",
    "\n",
    "# 0.5 está fora do intervalo gerado observando 540x cara na moeda, logo é uma moeda viciada"
   ]
  },
  {
   "cell_type": "markdown",
   "id": "76ab84fb",
   "metadata": {},
   "source": [
    "#### p-haking"
   ]
  },
  {
   "cell_type": "code",
   "execution_count": 52,
   "id": "4ade45ea",
   "metadata": {},
   "outputs": [],
   "source": [
    "from typing import List\n",
    "\n",
    "def run_experiment() -> List[bool]:\n",
    "    \"\"\"Flips a fit coin 1000 times, True = Heads, False = Taills\"\"\"\n",
    "    \n",
    "    return [random.random() < 0.5 for _ in range(1000)]\n",
    "\n",
    "def reject_fairness(experiment: List[bool]) -> bool:\n",
    "    \"\"\"Using the 5% significance levels\"\"\"\n",
    "    \n",
    "    num_heads = len([flip for flip in experiment if flip])\n",
    "    \n",
    "    return num_heads < 469 or num_heads > 531"
   ]
  },
  {
   "cell_type": "code",
   "execution_count": 54,
   "id": "a6417498",
   "metadata": {},
   "outputs": [],
   "source": [
    "random.seed(0)\n",
    "experiments = [run_experiment() for _ in range(1000)]\n",
    "num_rejections = len([experiment\n",
    "                      for experiment in experiments\n",
    "                      if reject_fairness(experiment)])\n",
    "\n",
    "assert num_rejections == 46"
   ]
  },
  {
   "cell_type": "markdown",
   "id": "59b92ead",
   "metadata": {},
   "source": [
    "#### Executando um teste A/B"
   ]
  },
  {
   "cell_type": "code",
   "execution_count": 55,
   "id": "f8600b74",
   "metadata": {},
   "outputs": [],
   "source": [
    "def estimated_parameters(N: int, n: int) -> Tuple[float, float]:\n",
    "    p = n / N\n",
    "    sigma = math.sqrt(p * (1 - p) / N)\n",
    "    \n",
    "    return p, sigma\n",
    "\n",
    "def a_b_test_statistic(N_A: int, n_A: int, N_B: int, n_B: int) -> float:\n",
    "    p_A, sigma_A = estimated_parameters(N_A, n_A)\n",
    "    p_B, sigma_B = estimated_parameters(N_B, n_B)\n",
    "    \n",
    "    return (p_B - p_A) / math.sqrt(sigma_A ** 2 + sigma_B ** 2)"
   ]
  },
  {
   "cell_type": "code",
   "execution_count": 57,
   "id": "2529b50d",
   "metadata": {},
   "outputs": [
    {
     "name": "stdout",
     "output_type": "stream",
     "text": [
      "-1.1403464899034472\n"
     ]
    }
   ],
   "source": [
    "# A is 200 click in 1000 view and B is 180 clicks in 1000 views\n",
    "\n",
    "z = a_b_test_statistic(1000, 200, 1000, 180)\n",
    "print(z)"
   ]
  },
  {
   "cell_type": "code",
   "execution_count": 62,
   "id": "15d8589b",
   "metadata": {},
   "outputs": [
    {
     "data": {
      "text/plain": [
       "0.254141976542236"
      ]
     },
     "execution_count": 62,
     "metadata": {},
     "output_type": "execute_result"
    }
   ],
   "source": [
    "two_sided_p_value(z)\n",
    "\n",
    "#assert 0.253 < two_sided_p_value(z) < 0.255"
   ]
  },
  {
   "cell_type": "code",
   "execution_count": 63,
   "id": "e401e7ce",
   "metadata": {},
   "outputs": [
    {
     "name": "stdout",
     "output_type": "stream",
     "text": [
      "-2.948839123097944\n"
     ]
    }
   ],
   "source": [
    "# if B 150 clicks in 1000 views\n",
    "\n",
    "z = a_b_test_statistic(1000, 200, 1000, 150)\n",
    "print(z)"
   ]
  },
  {
   "cell_type": "code",
   "execution_count": 65,
   "id": "c0780385",
   "metadata": {},
   "outputs": [
    {
     "data": {
      "text/plain": [
       "0.003189699706216853"
      ]
     },
     "execution_count": 65,
     "metadata": {},
     "output_type": "execute_result"
    }
   ],
   "source": [
    "# is big difference\n",
    "\n",
    "two_sided_p_value(z)"
   ]
  },
  {
   "cell_type": "markdown",
   "id": "6bad874b",
   "metadata": {},
   "source": [
    "#### inferência Bayesiana"
   ]
  },
  {
   "cell_type": "code",
   "execution_count": 66,
   "id": "c1fcece7",
   "metadata": {},
   "outputs": [],
   "source": [
    "def B(alpha: float, beta: float) -> float:\n",
    "    \"\"\"A normalizing constant so that the total probability is 1\"\"\"\n",
    "    return math.gamma(alpha) * math.gamma(beta) / math.gamma(alpha + beta)\n",
    "\n",
    "def beta_pdf(x: float, alpha: float, beta: float) -> float:\n",
    "    if x <= 0 or x >= 1:          # no weight outside of [0, 1]\n",
    "        return 0\n",
    "    return x ** (alpha - 1) * (1 - x) ** (beta - 1) / B(alpha, beta)"
   ]
  }
 ],
 "metadata": {
  "kernelspec": {
   "display_name": "Python 3 (ipykernel)",
   "language": "python",
   "name": "python3"
  },
  "language_info": {
   "codemirror_mode": {
    "name": "ipython",
    "version": 3
   },
   "file_extension": ".py",
   "mimetype": "text/x-python",
   "name": "python",
   "nbconvert_exporter": "python",
   "pygments_lexer": "ipython3",
   "version": "3.10.9"
  }
 },
 "nbformat": 4,
 "nbformat_minor": 5
}

{
 "cells": [
  {
   "cell_type": "markdown",
   "id": "01663211",
   "metadata": {},
   "source": [
    "## Um Curso Intensivo de Python"
   ]
  },
  {
   "cell_type": "markdown",
   "id": "f596adb4",
   "metadata": {},
   "source": [
    "### Funções"
   ]
  },
  {
   "cell_type": "code",
   "execution_count": null,
   "id": "959f0ca7",
   "metadata": {},
   "outputs": [],
   "source": [
    "def double(x):\n",
    "    return x * 2"
   ]
  },
  {
   "cell_type": "code",
   "execution_count": null,
   "id": "fb951898",
   "metadata": {},
   "outputs": [],
   "source": [
    "def apply_to_one(f):\n",
    "    return f(1)"
   ]
  },
  {
   "cell_type": "code",
   "execution_count": null,
   "id": "e7cfe985",
   "metadata": {},
   "outputs": [],
   "source": [
    "my_double = double\n",
    "x = apply_to_one(my_double)\n",
    "\n",
    "print(x)"
   ]
  },
  {
   "cell_type": "markdown",
   "id": "e3ab676a",
   "metadata": {},
   "source": [
    "### Funções Anônimas"
   ]
  },
  {
   "cell_type": "code",
   "execution_count": null,
   "id": "1802939a",
   "metadata": {},
   "outputs": [],
   "source": [
    "y = apply_to_one(lambda x: x + 4)\n",
    "print(y)"
   ]
  },
  {
   "cell_type": "code",
   "execution_count": null,
   "id": "61d02dfc",
   "metadata": {},
   "outputs": [],
   "source": [
    "# não faça isso\n",
    "another_double = lambda x: 2 * x"
   ]
  },
  {
   "cell_type": "code",
   "execution_count": null,
   "id": "7fc85e6b",
   "metadata": {},
   "outputs": [],
   "source": [
    "def another_double(x):\n",
    "    return x * 2 "
   ]
  },
  {
   "cell_type": "markdown",
   "id": "5210e079",
   "metadata": {},
   "source": [
    "### Funções com argumentos padrão (default)"
   ]
  },
  {
   "cell_type": "code",
   "execution_count": null,
   "id": "e74fc927",
   "metadata": {},
   "outputs": [],
   "source": [
    "def my_print(message = 'My default message!'):\n",
    "    print(message)"
   ]
  },
  {
   "cell_type": "code",
   "execution_count": null,
   "id": "299b1d7b",
   "metadata": {
    "scrolled": true
   },
   "outputs": [],
   "source": [
    "my_print('hello')\n",
    "my_print()"
   ]
  },
  {
   "cell_type": "code",
   "execution_count": null,
   "id": "998e144f",
   "metadata": {},
   "outputs": [],
   "source": [
    "def full_name(first = 'Whats his name', last = 'Something'):\n",
    "    return first + ' ' + last"
   ]
  },
  {
   "cell_type": "code",
   "execution_count": null,
   "id": "3f39adcf",
   "metadata": {},
   "outputs": [],
   "source": [
    "print(full_name('joel', 'grus'))\n",
    "print(full_name('joel'))\n",
    "print(full_name())"
   ]
  },
  {
   "cell_type": "markdown",
   "id": "a21dcba1",
   "metadata": {},
   "source": [
    "### Strings"
   ]
  },
  {
   "cell_type": "code",
   "execution_count": null,
   "id": "17d601fa",
   "metadata": {},
   "outputs": [],
   "source": [
    "single_quoted_string = 'data sciente'\n",
    "double_quoted_string = \"data science\""
   ]
  },
  {
   "cell_type": "code",
   "execution_count": null,
   "id": "c4fb2f8e",
   "metadata": {},
   "outputs": [],
   "source": [
    "tab_string = '\\t'\n",
    "len(tab_string)"
   ]
  },
  {
   "cell_type": "code",
   "execution_count": null,
   "id": "f7b8d2a0",
   "metadata": {},
   "outputs": [],
   "source": [
    "not_tab_string = r'\\n'\n",
    "len(not_tab_string)"
   ]
  },
  {
   "cell_type": "code",
   "execution_count": null,
   "id": "861a3261",
   "metadata": {},
   "outputs": [],
   "source": [
    "multi_line_string = \"\"\" Está é uma linha \n",
    "e está é a segunda linha\n",
    "e aqui é a última linha \"\"\""
   ]
  },
  {
   "cell_type": "markdown",
   "id": "13147136",
   "metadata": {},
   "source": [
    "### f-string"
   ]
  },
  {
   "cell_type": "code",
   "execution_count": null,
   "id": "74dd7847",
   "metadata": {},
   "outputs": [],
   "source": [
    "first_name = 'aldren'\n",
    "last_name = 'martins'"
   ]
  },
  {
   "cell_type": "code",
   "execution_count": null,
   "id": "64fcebba",
   "metadata": {},
   "outputs": [],
   "source": [
    "full_name = f'{first_name} {last_name}'\n",
    "full_name"
   ]
  },
  {
   "cell_type": "markdown",
   "id": "ea489ce2",
   "metadata": {},
   "source": [
    "### Exceções"
   ]
  },
  {
   "cell_type": "code",
   "execution_count": null,
   "id": "beca70bf",
   "metadata": {},
   "outputs": [],
   "source": [
    "try:\n",
    "    print(0/0)\n",
    "except ZeroDivisionError:\n",
    "    print(\"cannot divide by zero!\")"
   ]
  },
  {
   "cell_type": "markdown",
   "id": "49c4050c",
   "metadata": {},
   "source": [
    "### Listas"
   ]
  },
  {
   "cell_type": "code",
   "execution_count": null,
   "id": "7e34ebdf",
   "metadata": {},
   "outputs": [],
   "source": [
    "integer_list = [1, 2, 3]\n",
    "integer_list"
   ]
  },
  {
   "cell_type": "code",
   "execution_count": null,
   "id": "c5155b5b",
   "metadata": {},
   "outputs": [],
   "source": [
    "heterogeneous_list = ['string', 0.1, True]\n",
    "heterogeneous_list"
   ]
  },
  {
   "cell_type": "code",
   "execution_count": null,
   "id": "f0f11082",
   "metadata": {},
   "outputs": [],
   "source": [
    "list_of_list = [integer_list, heterogeneous_list, []]\n",
    "list_of_list"
   ]
  },
  {
   "cell_type": "code",
   "execution_count": null,
   "id": "a960d0d3",
   "metadata": {},
   "outputs": [],
   "source": [
    "list_length = len(integer_list)\n",
    "print(list_length)\n",
    "\n",
    "list_sum = sum(integer_list)\n",
    "print(list_sum)"
   ]
  },
  {
   "cell_type": "code",
   "execution_count": null,
   "id": "3e2c9717",
   "metadata": {},
   "outputs": [],
   "source": [
    "x = [0, 1, 2, 3, 4, 5, 6, 7, 8, 9]"
   ]
  },
  {
   "cell_type": "code",
   "execution_count": null,
   "id": "d969a8cf",
   "metadata": {},
   "outputs": [],
   "source": [
    "zero = x[0]   # listas são indexadas a partir do 0\n",
    "one = [1]     # Elemento 1 da lista\n",
    "nine = [-1]   # Forma \"pythonic\" para acessar o último índice da lista\n",
    "eight = [-2]  # Forma \"Pythonic\" para acessar o penultino índice da lista\n",
    "x[0] = -1     # Altera o item indice 0 para \"-1\""
   ]
  },
  {
   "cell_type": "markdown",
   "id": "7a25ab27",
   "metadata": {},
   "source": [
    "### Fatiar a lista (slices)"
   ]
  },
  {
   "cell_type": "code",
   "execution_count": null,
   "id": "3a92a1eb",
   "metadata": {},
   "outputs": [],
   "source": [
    "first_three = x[:3]\n",
    "first_three"
   ]
  },
  {
   "cell_type": "code",
   "execution_count": null,
   "id": "78d97a9e",
   "metadata": {},
   "outputs": [],
   "source": [
    "three_to_end = x[3:]\n",
    "three_to_end"
   ]
  },
  {
   "cell_type": "code",
   "execution_count": null,
   "id": "cb55e666",
   "metadata": {},
   "outputs": [],
   "source": [
    "one_to_four = x[1:5]\n",
    "one_to_four"
   ]
  },
  {
   "cell_type": "code",
   "execution_count": null,
   "id": "e4f6748d",
   "metadata": {},
   "outputs": [],
   "source": [
    "last_three = x[-3:]\n",
    "last_three"
   ]
  },
  {
   "cell_type": "code",
   "execution_count": null,
   "id": "5d64ac9c",
   "metadata": {},
   "outputs": [],
   "source": [
    "without_first_and_last = x[1:-1]\n",
    "without_first_and_last"
   ]
  },
  {
   "cell_type": "code",
   "execution_count": null,
   "id": "74fc0a81",
   "metadata": {},
   "outputs": [],
   "source": [
    "copy_of_x = x[:]\n",
    "copy_of_x"
   ]
  },
  {
   "cell_type": "markdown",
   "id": "75c2a9c9",
   "metadata": {},
   "source": [
    "#### Fatiar a lista com Stride"
   ]
  },
  {
   "cell_type": "code",
   "execution_count": null,
   "id": "bd2ea1c0",
   "metadata": {},
   "outputs": [],
   "source": [
    "every_third = x[::3]\n",
    "every_third"
   ]
  },
  {
   "cell_type": "code",
   "execution_count": null,
   "id": "3386db42",
   "metadata": {},
   "outputs": [],
   "source": [
    "five_to_three = x[5:2:-1]\n",
    "five_to_three"
   ]
  },
  {
   "cell_type": "markdown",
   "id": "6a4e69a5",
   "metadata": {},
   "source": [
    "#### Operador IN para strings"
   ]
  },
  {
   "cell_type": "code",
   "execution_count": null,
   "id": "919a1028",
   "metadata": {},
   "outputs": [],
   "source": [
    "1 in [1, 2, 3]"
   ]
  },
  {
   "cell_type": "code",
   "execution_count": null,
   "id": "fef927be",
   "metadata": {},
   "outputs": [],
   "source": [
    "0 in [1 ,2 , 3]"
   ]
  },
  {
   "cell_type": "markdown",
   "id": "0a7efdca",
   "metadata": {},
   "source": [
    "#### Concatenar listas"
   ]
  },
  {
   "cell_type": "code",
   "execution_count": null,
   "id": "f91a4cf0",
   "metadata": {},
   "outputs": [],
   "source": [
    "x = [1, 2, 3]\n",
    "x.extend([4, 5, 6])\n",
    "x"
   ]
  },
  {
   "cell_type": "code",
   "execution_count": null,
   "id": "f3e5b7ae",
   "metadata": {},
   "outputs": [],
   "source": [
    "x = [1, 2, 3]\n",
    "y = x + [4, 5, 6]\n",
    "y"
   ]
  },
  {
   "cell_type": "markdown",
   "id": "baffeb5a",
   "metadata": {},
   "source": [
    "#### Adicionar itens a lista"
   ]
  },
  {
   "cell_type": "code",
   "execution_count": null,
   "id": "ecfb1bdf",
   "metadata": {},
   "outputs": [],
   "source": [
    "x = [1, 2, 3]\n",
    "x.append(0)\n",
    "x"
   ]
  },
  {
   "cell_type": "code",
   "execution_count": null,
   "id": "0e11bad7",
   "metadata": {},
   "outputs": [],
   "source": [
    "y = x[-1]\n",
    "y"
   ]
  },
  {
   "cell_type": "code",
   "execution_count": null,
   "id": "8211f0df",
   "metadata": {},
   "outputs": [],
   "source": [
    "z = len(x)\n",
    "z"
   ]
  },
  {
   "cell_type": "code",
   "execution_count": null,
   "id": "b65f9a91",
   "metadata": {},
   "outputs": [],
   "source": [
    "# descompactar listas quando sabemos a quantidade de itens\n",
    "\n",
    "x, y = [1, 2]\n",
    "\n",
    "print(x)\n",
    "print(y)"
   ]
  },
  {
   "cell_type": "code",
   "execution_count": null,
   "id": "e87827a2",
   "metadata": {},
   "outputs": [],
   "source": [
    "_, y = [1, 2]\n",
    "\n",
    "print(y)"
   ]
  },
  {
   "cell_type": "markdown",
   "id": "3fbbdd76",
   "metadata": {},
   "source": [
    "### Tuplas"
   ]
  },
  {
   "cell_type": "code",
   "execution_count": null,
   "id": "bd55a72a",
   "metadata": {},
   "outputs": [],
   "source": [
    "my_list = [1, 2]\n",
    "my_tuple = (1, 2)\n",
    "other_tuple = 3, 4\n",
    "my_list[1]"
   ]
  },
  {
   "cell_type": "code",
   "execution_count": null,
   "id": "92270a6c",
   "metadata": {},
   "outputs": [],
   "source": [
    "try:\n",
    "    my_tuple[1] = 3\n",
    "except:\n",
    "    print(\"cannot modify a tuple\")"
   ]
  },
  {
   "cell_type": "code",
   "execution_count": null,
   "id": "c23ca76f",
   "metadata": {},
   "outputs": [],
   "source": [
    "def sum_and_product(x, y):\n",
    "    return (x+y), (x*y)"
   ]
  },
  {
   "cell_type": "code",
   "execution_count": null,
   "id": "9cd3b1c1",
   "metadata": {},
   "outputs": [],
   "source": [
    "sp = sum_and_product(3, 2)\n",
    "print(sp)\n",
    "\n",
    "s, p = sum_and_product(5, 10)\n",
    "print(s)\n",
    "print(p)"
   ]
  },
  {
   "cell_type": "markdown",
   "id": "f72525a2",
   "metadata": {},
   "source": [
    "### Dicionário"
   ]
  },
  {
   "cell_type": "code",
   "execution_count": null,
   "id": "1beb1602",
   "metadata": {},
   "outputs": [],
   "source": [
    "empty_dict = {}   # Pythonic\n",
    "\n",
    "grades = {\"Joel\": 80, \"Tim\": 95}\n",
    "grades"
   ]
  },
  {
   "cell_type": "code",
   "execution_count": null,
   "id": "4daecb5d",
   "metadata": {},
   "outputs": [],
   "source": [
    "joel_grades = grades['Joel']\n",
    "joel_grades"
   ]
  },
  {
   "cell_type": "code",
   "execution_count": null,
   "id": "6fe7966c",
   "metadata": {},
   "outputs": [],
   "source": [
    "try:\n",
    "    kate_grades = grades['Kate']\n",
    "except KeyError:\n",
    "    print(\"no grade for Kate!\")"
   ]
  },
  {
   "cell_type": "code",
   "execution_count": null,
   "id": "8b3090b0",
   "metadata": {},
   "outputs": [],
   "source": [
    "# o método in é rápido até em dicionários grandes\n",
    "\n",
    "joel_has_grade = 'Joel' in grades\n",
    "print(joel_has_grade)\n",
    "\n",
    "kate_has_grades = 'Kate' in grades\n",
    "print(kate_has_grades)"
   ]
  },
  {
   "cell_type": "code",
   "execution_count": null,
   "id": "17451584",
   "metadata": {},
   "outputs": [],
   "source": [
    "# o método get gera um valor padrão e não um erro\n",
    "\n",
    "joel_grade = grades.get('Joel', 0)\n",
    "print(joel_grade)\n",
    "\n",
    "kate_grade = grades.get('Kate', 0)\n",
    "print(kate_grade)\n",
    "\n",
    "no_ones_grade = grades.get('No one')\n",
    "print(no_ones_grade)"
   ]
  },
  {
   "cell_type": "code",
   "execution_count": null,
   "id": "f0a395a4",
   "metadata": {},
   "outputs": [],
   "source": [
    "grades['Tim'] = 99            # substitui o valor anterior\n",
    "grades['Kate'] = 100          # adiciona a \"Kate\" no dicionário\n",
    "print(grades)\n",
    "\n",
    "num_students = len(grades)\n",
    "print(num_students)"
   ]
  },
  {
   "cell_type": "code",
   "execution_count": null,
   "id": "2ed91dde",
   "metadata": {},
   "outputs": [],
   "source": [
    "tweet = {\n",
    "    'user': 'aldrenmartins',\n",
    "    'text': 'Data Sciente is Fire!',\n",
    "    'retweet_count': 1239,\n",
    "    'hastags': ['#data', '#science', 'datascience', '#yolo']\n",
    "}\n",
    "\n",
    "tweet"
   ]
  },
  {
   "cell_type": "code",
   "execution_count": null,
   "id": "396f0c7c",
   "metadata": {},
   "outputs": [],
   "source": [
    "tweet_keys = tweet.keys()\n",
    "tweet_keys"
   ]
  },
  {
   "cell_type": "code",
   "execution_count": null,
   "id": "5b811774",
   "metadata": {},
   "outputs": [],
   "source": [
    "tweet_values = tweet.values()\n",
    "tweet_values"
   ]
  },
  {
   "cell_type": "code",
   "execution_count": null,
   "id": "ca68e7be",
   "metadata": {},
   "outputs": [],
   "source": [
    "tweet_items = tweet.items()\n",
    "tweet_items"
   ]
  },
  {
   "cell_type": "code",
   "execution_count": null,
   "id": "e9974e96",
   "metadata": {},
   "outputs": [],
   "source": [
    "\"user\" in tweet   # Pythonic"
   ]
  },
  {
   "cell_type": "markdown",
   "id": "4e939227",
   "metadata": {},
   "source": [
    "#### defaultdict"
   ]
  },
  {
   "cell_type": "code",
   "execution_count": null,
   "id": "a98834d7",
   "metadata": {},
   "outputs": [],
   "source": [
    "document = \"Ryu, The Runner - Me sinto Oruam feat Leviano\""
   ]
  },
  {
   "cell_type": "code",
   "execution_count": null,
   "id": "9ed6e463",
   "metadata": {},
   "outputs": [],
   "source": [
    "# uma forma intuitiva\n",
    "\n",
    "word_counts = {}\n",
    "for word in document:\n",
    "    if word in word_counts:\n",
    "        word_counts[word] += 1\n",
    "    else:\n",
    "        word_counts[word] = 1\n",
    "        \n",
    "word_counts"
   ]
  },
  {
   "cell_type": "code",
   "execution_count": null,
   "id": "e0d14567",
   "metadata": {},
   "outputs": [],
   "source": [
    "# melhor pedir perdão do que permissão\n",
    "\n",
    "word_counts = {}\n",
    "for word in document:\n",
    "    try:\n",
    "        word_counts[word] += 1\n",
    "    except KeyError:\n",
    "        word_counts[word] = 1\n",
    "\n",
    "word_counts"
   ]
  },
  {
   "cell_type": "code",
   "execution_count": null,
   "id": "98403903",
   "metadata": {},
   "outputs": [],
   "source": [
    "# utilizando get\n",
    "\n",
    "word_counts = {}\n",
    "for word in document:\n",
    "    previuos_count = word_counts.get(word, 0)\n",
    "    word_counts[word] = previuos_count + 1\n",
    "\n",
    "word_counts"
   ]
  },
  {
   "cell_type": "code",
   "execution_count": null,
   "id": "807c38ed",
   "metadata": {},
   "outputs": [],
   "source": [
    "from collections import defaultdict\n",
    "\n",
    "word_counts = defaultdict(int)\n",
    "for word in document:\n",
    "    word_counts[word] += 1\n",
    "\n",
    "word_counts"
   ]
  },
  {
   "cell_type": "code",
   "execution_count": null,
   "id": "d13dc4cc",
   "metadata": {},
   "outputs": [],
   "source": [
    "# esse recurso também é útil com list, dict, etc\n",
    "\n",
    "dd_list = defaultdict(list)\n",
    "dd_list[2].append(1)\n",
    "\n",
    "dd_list"
   ]
  },
  {
   "cell_type": "code",
   "execution_count": null,
   "id": "fbc77620",
   "metadata": {},
   "outputs": [],
   "source": [
    "dd_dict = defaultdict(dict)\n",
    "dd_dict['aldren']['city'] = 'Songa'\n",
    "\n",
    "dd_dict"
   ]
  },
  {
   "cell_type": "code",
   "execution_count": null,
   "id": "c672e934",
   "metadata": {},
   "outputs": [],
   "source": [
    "dd_pair = defaultdict(lambda: [0, 0])\n",
    "dd_pair[2][1] = 1\n",
    "dd_pair"
   ]
  },
  {
   "cell_type": "code",
   "execution_count": null,
   "id": "c5dca4cb",
   "metadata": {},
   "outputs": [],
   "source": [
    "# isso será útil quando usarmos dicionário para \"coletar\" os resultados \n",
    "# de alguma chave sem verificar se ela existe a cada operação"
   ]
  },
  {
   "cell_type": "markdown",
   "id": "dae13dda",
   "metadata": {},
   "source": [
    "### Contadores (Counter)"
   ]
  },
  {
   "cell_type": "code",
   "execution_count": null,
   "id": "659981b1",
   "metadata": {},
   "outputs": [],
   "source": [
    "from collections import Counter\n",
    "\n",
    "c = Counter([0, 1, 2, 3])\n",
    "c"
   ]
  },
  {
   "cell_type": "code",
   "execution_count": null,
   "id": "1ce272fd",
   "metadata": {},
   "outputs": [],
   "source": [
    "word_counts = Counter(document)\n",
    "word_counts"
   ]
  },
  {
   "cell_type": "code",
   "execution_count": null,
   "id": "6fb88580",
   "metadata": {},
   "outputs": [],
   "source": [
    "# most_common \n",
    "\n",
    "for word, count in word_counts.most_common(10):\n",
    "    print(word, count)"
   ]
  },
  {
   "cell_type": "markdown",
   "id": "c0643832",
   "metadata": {},
   "source": [
    "### Conjuntos (Set)\n",
    "\n",
    "Outra estrutura de dados útil é o Set, uma coleção de elementos distintos."
   ]
  },
  {
   "cell_type": "code",
   "execution_count": null,
   "id": "92935591",
   "metadata": {},
   "outputs": [],
   "source": [
    "primes_below = {2, 3, 5, 7}\n",
    "primes_below"
   ]
  },
  {
   "cell_type": "code",
   "execution_count": null,
   "id": "f9a0053d",
   "metadata": {},
   "outputs": [],
   "source": [
    "# para conjuntos vazios \n",
    "\n",
    "s = set()\n",
    "s.add(1)\n",
    "s.add(2)\n",
    "s.add(2)   # ainda continua {1, 2}\n",
    "\n",
    "print(s)"
   ]
  },
  {
   "cell_type": "code",
   "execution_count": null,
   "id": "3183bef2",
   "metadata": {},
   "outputs": [],
   "source": [
    "x = len(s)\n",
    "print(f'Tamanho de de s: {x}')"
   ]
  },
  {
   "cell_type": "code",
   "execution_count": null,
   "id": "ccb22c2e",
   "metadata": {},
   "outputs": [],
   "source": [
    "y = 2 in s\n",
    "z = 3 in s\n",
    "\n",
    "print(y, z)"
   ]
  },
  {
   "cell_type": "code",
   "execution_count": null,
   "id": "569588d3",
   "metadata": {},
   "outputs": [],
   "source": [
    "stopwords_list = ['a', 'an', 'at'] + ['yet', 'you']\n",
    "\n",
    "\"zip\" in stopwords_list"
   ]
  },
  {
   "cell_type": "code",
   "execution_count": null,
   "id": "5095b893",
   "metadata": {},
   "outputs": [],
   "source": [
    "# in é uma operação muito rápida em conjuntos\n",
    "\n",
    "stopwords_list = set(stopwords_list)\n",
    "\"zip\" in stopwords_list"
   ]
  },
  {
   "cell_type": "code",
   "execution_count": null,
   "id": "90265991",
   "metadata": {},
   "outputs": [],
   "source": [
    "item_list = [1, 2, 3, 1, 2, 3]"
   ]
  },
  {
   "cell_type": "code",
   "execution_count": null,
   "id": "ebbda008",
   "metadata": {},
   "outputs": [],
   "source": [
    "num_items = len(item_list)\n",
    "num_items"
   ]
  },
  {
   "cell_type": "code",
   "execution_count": null,
   "id": "aba6033f",
   "metadata": {},
   "outputs": [],
   "source": [
    "# itens distintos da lista\n",
    "\n",
    "item_set = set(item_list)\n",
    "item_set"
   ]
  },
  {
   "cell_type": "code",
   "execution_count": null,
   "id": "30daadb7",
   "metadata": {},
   "outputs": [],
   "source": [
    "num_distinct_items = len(item_set)\n",
    "num_distinct_items"
   ]
  },
  {
   "cell_type": "code",
   "execution_count": null,
   "id": "aa51ee90",
   "metadata": {},
   "outputs": [],
   "source": [
    "distinct_items_list = list(item_set)\n",
    "distinct_items_list"
   ]
  },
  {
   "cell_type": "markdown",
   "id": "efa34f74",
   "metadata": {},
   "source": [
    "### Fluxo de Controle"
   ]
  },
  {
   "cell_type": "code",
   "execution_count": null,
   "id": "752d5e99",
   "metadata": {},
   "outputs": [],
   "source": [
    "if 1 > 2:\n",
    "    message = 'if only 1 were greater than two...'\n",
    "elif 1 > 3: \n",
    "    message = 'elif stands for else if'\n",
    "else:\n",
    "    message = 'when all else fail use else'"
   ]
  },
  {
   "cell_type": "code",
   "execution_count": null,
   "id": "276ffaa1",
   "metadata": {},
   "outputs": [],
   "source": [
    "# você também pode usar um ternário\n",
    "\n",
    "parity = \"even\" if x % 2 == 0 else \"odd\"\n",
    "parity"
   ]
  },
  {
   "cell_type": "code",
   "execution_count": null,
   "id": "9ff78686",
   "metadata": {},
   "outputs": [],
   "source": [
    "x = 0\n",
    "\n",
    "while x < 10:\n",
    "    print(f'{x} is less than 10')\n",
    "    x +=1"
   ]
  },
  {
   "cell_type": "code",
   "execution_count": null,
   "id": "62a87310",
   "metadata": {},
   "outputs": [],
   "source": [
    "for x in range(10):\n",
    "    print(f'{x} is less than 10')"
   ]
  },
  {
   "cell_type": "code",
   "execution_count": null,
   "id": "126a1af4",
   "metadata": {},
   "outputs": [],
   "source": [
    "for x in range(10):\n",
    "    if x == 3:\n",
    "        continue\n",
    "    if x == 5:\n",
    "        break\n",
    "    print(x)"
   ]
  },
  {
   "cell_type": "markdown",
   "id": "62d34a20",
   "metadata": {},
   "source": [
    "### Veracidade"
   ]
  },
  {
   "cell_type": "code",
   "execution_count": null,
   "id": "80fb0054",
   "metadata": {},
   "outputs": [],
   "source": [
    "one_is_less_than_two = 1 < 2\n",
    "one_is_less_than_two"
   ]
  },
  {
   "cell_type": "code",
   "execution_count": null,
   "id": "35e4f2d2",
   "metadata": {},
   "outputs": [],
   "source": [
    "true_equals_false = True == False\n",
    "true_equals_false"
   ]
  },
  {
   "cell_type": "code",
   "execution_count": null,
   "id": "8e2448af",
   "metadata": {},
   "outputs": [],
   "source": [
    "x = None\n",
    "\n",
    "assert x == None  # não é a forma pythonic\n",
    "\n",
    "assert x is None  # essa é a forma pythonic"
   ]
  },
  {
   "cell_type": "code",
   "execution_count": null,
   "id": "4564dffb",
   "metadata": {},
   "outputs": [],
   "source": [
    "# a função \"all\" que retorna True quando todos os elementos sao verdadeieros\n",
    "# e \"any\" que retorna True quando pelo menos um elemento é verdadeiro\n",
    "\n",
    "print(all([True, 1, {3}]))\n",
    "\n",
    "print(any([True, 1, {}]))\n",
    "\n",
    "print(all([]))\n",
    "\n",
    "print(any([]))"
   ]
  },
  {
   "cell_type": "markdown",
   "id": "c3ace673",
   "metadata": {},
   "source": [
    "### Classificação\n",
    "\n",
    "No python, toda lista tem um método \"sort\" que organiza a lista, e para não bagunçar a ideia, você pode usar a função \"sorted\" que retorna uma nova lista"
   ]
  },
  {
   "cell_type": "code",
   "execution_count": null,
   "id": "b2a2fde0",
   "metadata": {},
   "outputs": [],
   "source": [
    "x = [4, 1, 2, 3]\n",
    "print(x)"
   ]
  },
  {
   "cell_type": "code",
   "execution_count": null,
   "id": "f58e2766",
   "metadata": {},
   "outputs": [],
   "source": [
    "y = sorted(x)\n",
    "print(y)"
   ]
  },
  {
   "cell_type": "code",
   "execution_count": null,
   "id": "f995b927",
   "metadata": {},
   "outputs": [],
   "source": [
    "x.sort()\n",
    "print(x)"
   ]
  },
  {
   "cell_type": "code",
   "execution_count": null,
   "id": "5cafcb8b",
   "metadata": {},
   "outputs": [],
   "source": [
    "# para organizar a lista do maior para o menor basta especificar o parametro \"reverse=True\"\n",
    "\n",
    "x = sorted([-4, 1, -2, 3])\n",
    "print(x)"
   ]
  },
  {
   "cell_type": "code",
   "execution_count": null,
   "id": "270193b8",
   "metadata": {},
   "outputs": [],
   "source": [
    "# classifique a lista por valor absoluto do maior para o menor\n",
    "\n",
    "x = sorted([-4, 1, -2, 3, 5], key=abs, reverse=True)\n",
    "print(x)\n"
   ]
  },
  {
   "cell_type": "markdown",
   "id": "59d77af3",
   "metadata": {},
   "source": [
    "### Compeensões de Lista (List Comprehensions)\n",
    "\n",
    "List Comprehensions é a forma pythonic para transformar listas em outras"
   ]
  },
  {
   "cell_type": "code",
   "execution_count": null,
   "id": "77924ada",
   "metadata": {},
   "outputs": [],
   "source": [
    "even_numbers = [x for x in range(10) if x % 2 == 0]\n",
    "even_numbers"
   ]
  },
  {
   "cell_type": "code",
   "execution_count": null,
   "id": "2050f239",
   "metadata": {},
   "outputs": [],
   "source": [
    "squares = [x**2 for x in range(10)]\n",
    "squares"
   ]
  },
  {
   "cell_type": "code",
   "execution_count": null,
   "id": "27f00395",
   "metadata": {},
   "outputs": [],
   "source": [
    "even_squares = [x**2 for x in even_numbers]\n",
    "even_squares"
   ]
  },
  {
   "cell_type": "code",
   "execution_count": null,
   "id": "1646e252",
   "metadata": {},
   "outputs": [],
   "source": [
    "# da mesma forma que você pode transformar listas em dicionários ou conjuntos\n",
    "\n",
    "square_dict = {x: x**2 for x in range(10)}\n",
    "print(square_dict)\n",
    "\n",
    "square_set = {x**2 for x in [1, -1]}\n",
    "print(square_set)"
   ]
  },
  {
   "cell_type": "code",
   "execution_count": null,
   "id": "63d9967c",
   "metadata": {},
   "outputs": [],
   "source": [
    "# quando não precisamos do valor da lista geralmente usamos um _ \n",
    "\n",
    "zeros = [0 for _ in even_numbers]\n",
    "zeros"
   ]
  },
  {
   "cell_type": "code",
   "execution_count": null,
   "id": "38abbe96",
   "metadata": {},
   "outputs": [],
   "source": [
    "# uma list comprehensions pode conter múltiplos for's\n",
    "\n",
    "pairs = [(x, y)\n",
    "        for x in range(5)\n",
    "        for y in range(5)]\n",
    "pairs"
   ]
  },
  {
   "cell_type": "code",
   "execution_count": null,
   "id": "b3b98678",
   "metadata": {},
   "outputs": [],
   "source": [
    "increasing_pairs = [(x, y)\n",
    "                   for x in range(10)\n",
    "                   for y in range(x+1, 10)]\n",
    "increasing_pairs"
   ]
  },
  {
   "cell_type": "markdown",
   "id": "23318b41",
   "metadata": {},
   "source": [
    "### Testes automatizados e asserção"
   ]
  },
  {
   "cell_type": "code",
   "execution_count": null,
   "id": "4449b58f",
   "metadata": {},
   "outputs": [],
   "source": [
    "def smallest_item(xs):\n",
    "    return min(xs)\n",
    "\n",
    "assert smallest_item([10, 20, 5, 30]) == 5"
   ]
  },
  {
   "cell_type": "markdown",
   "id": "437bd2b1",
   "metadata": {},
   "source": [
    "### Programação Orientada a Objetos"
   ]
  },
  {
   "cell_type": "code",
   "execution_count": null,
   "id": "7bb24d7e",
   "metadata": {},
   "outputs": [],
   "source": [
    "class CountClicker:\n",
    "    def __init__(self, count=0):\n",
    "        self.count = count"
   ]
  },
  {
   "cell_type": "code",
   "execution_count": null,
   "id": "8651a03c",
   "metadata": {},
   "outputs": [],
   "source": [
    "clicker1 = CountClicker()\n",
    "clicker2 = CountClicker(100)\n",
    "clicker3 = CountClicker(count=100)"
   ]
  },
  {
   "cell_type": "code",
   "execution_count": null,
   "id": "a944e626",
   "metadata": {},
   "outputs": [],
   "source": [
    "class CountClicker:\n",
    "    def __init__(self, count=0):\n",
    "        self.count = count\n",
    "    \n",
    "    def click(self, num_times=1):\n",
    "        self.count += num_times\n",
    "    \n",
    "    def read(self):\n",
    "        return self.count\n",
    "    \n",
    "    def reset(self):\n",
    "        self.count = 0"
   ]
  },
  {
   "cell_type": "code",
   "execution_count": null,
   "id": "c684358a",
   "metadata": {},
   "outputs": [],
   "source": [
    "clicker = CountClicker()\n",
    "assert clicker.read() == 0"
   ]
  },
  {
   "cell_type": "code",
   "execution_count": null,
   "id": "d0bee1bf",
   "metadata": {},
   "outputs": [],
   "source": [
    "clicker.click()\n",
    "clicker.click()\n",
    "clicker.click()\n",
    "\n",
    "assert clicker.read() == 3"
   ]
  },
  {
   "cell_type": "code",
   "execution_count": null,
   "id": "978e2dad",
   "metadata": {},
   "outputs": [],
   "source": [
    "clicker.reset()\n",
    "assert clicker.read() == 0"
   ]
  },
  {
   "cell_type": "code",
   "execution_count": null,
   "id": "d522f566",
   "metadata": {},
   "outputs": [],
   "source": [
    "# subclasse \n",
    "\n",
    "class NoResetClicker(CountClicker):\n",
    "    # essa class tem os mesmos métodos da CountClicker\n",
    "    \n",
    "    def reset(self):\n",
    "        pass"
   ]
  },
  {
   "cell_type": "code",
   "execution_count": null,
   "id": "62964fbb",
   "metadata": {},
   "outputs": [],
   "source": [
    "clicker2 = NoResetClicker()\n",
    "assert clicker2.read() == 0"
   ]
  },
  {
   "cell_type": "code",
   "execution_count": null,
   "id": "0f240ca0",
   "metadata": {},
   "outputs": [],
   "source": [
    "clicker2.click()\n",
    "clicker2.click()"
   ]
  },
  {
   "cell_type": "code",
   "execution_count": null,
   "id": "8a739c3c",
   "metadata": {},
   "outputs": [],
   "source": [
    "assert clicker2.read() == 2"
   ]
  },
  {
   "cell_type": "markdown",
   "id": "586f96d7",
   "metadata": {},
   "source": [
    "### Iteráveis e Geradores"
   ]
  },
  {
   "cell_type": "code",
   "execution_count": null,
   "id": "368aab05",
   "metadata": {},
   "outputs": [],
   "source": [
    "# é possível criar geradores usando funções e o operador \"yeld\"\n",
    "\n",
    "data = natural_numbers()\n",
    "evens = (x for x in data if x % 2 == 0)\n",
    "even_square = (x**2 for x in evens)\n",
    "even_square_ending_in_six = (x for x in even_square if x % 10 == 6)\n",
    "\n",
    "# nenhuma dessas computações executam ate a iteração"
   ]
  },
  {
   "cell_type": "markdown",
   "id": "1c0d0452",
   "metadata": {},
   "source": [
    "### Aleatoriedade"
   ]
  },
  {
   "cell_type": "code",
   "execution_count": 291,
   "id": "797e647a",
   "metadata": {},
   "outputs": [],
   "source": [
    "import random\n",
    "\n",
    "random.seed(42)"
   ]
  },
  {
   "cell_type": "code",
   "execution_count": 292,
   "id": "c9549b53",
   "metadata": {},
   "outputs": [
    {
     "data": {
      "text/plain": [
       "[0.6394267984578837,\n",
       " 0.025010755222666936,\n",
       " 0.27502931836911926,\n",
       " 0.22321073814882275]"
      ]
     },
     "execution_count": 292,
     "metadata": {},
     "output_type": "execute_result"
    }
   ],
   "source": [
    "four_uniform_random = [random.random() for _ in range(4)]\n",
    "four_uniform_random"
   ]
  },
  {
   "cell_type": "code",
   "execution_count": 293,
   "id": "b4780293",
   "metadata": {},
   "outputs": [
    {
     "data": {
      "text/plain": [
       "6"
      ]
     },
     "execution_count": 293,
     "metadata": {},
     "output_type": "execute_result"
    }
   ],
   "source": [
    "random.randrange(42)"
   ]
  },
  {
   "cell_type": "code",
   "execution_count": 294,
   "id": "dee15d5b",
   "metadata": {},
   "outputs": [
    {
     "data": {
      "text/plain": [
       "5"
      ]
     },
     "execution_count": 294,
     "metadata": {},
     "output_type": "execute_result"
    }
   ],
   "source": [
    "random.randrange(3,6)"
   ]
  },
  {
   "cell_type": "code",
   "execution_count": 298,
   "id": "91e81457",
   "metadata": {},
   "outputs": [
    {
     "name": "stdout",
     "output_type": "stream",
     "text": [
      "[4, 3, 5, 10, 6, 8, 1, 7, 2, 9]\n"
     ]
    }
   ],
   "source": [
    "# ordenar aleatoriamente elementos de uma lista\n",
    "\n",
    "up_to_ten = [1, 2, 3, 4, 5, 6, 7, 8, 9, 10]\n",
    "\n",
    "random.shuffle(up_to_ten)\n",
    "print(up_to_ten)"
   ]
  },
  {
   "cell_type": "code",
   "execution_count": 300,
   "id": "013b7b72",
   "metadata": {},
   "outputs": [
    {
     "name": "stdout",
     "output_type": "stream",
     "text": [
      "10\n"
     ]
    }
   ],
   "source": [
    "# escolher aleatoriamente um numero da lista\n",
    "\n",
    "pick_number = random.choice(up_to_ten)\n",
    "print(pick_number)"
   ]
  },
  {
   "cell_type": "code",
   "execution_count": 301,
   "id": "b4f6a00b",
   "metadata": {},
   "outputs": [
    {
     "name": "stdout",
     "output_type": "stream",
     "text": [
      "[45, 41, 44, 34, 26, 14]\n"
     ]
    }
   ],
   "source": [
    "# para escolher aleatoriamente uma amostra de elementos sem substituição\n",
    "\n",
    "lottery_numbers = range(60)\n",
    "winning_numbers = random.sample(lottery_numbers, 6)\n",
    "print(winning_numbers)"
   ]
  },
  {
   "cell_type": "code",
   "execution_count": 302,
   "id": "bad5ce9a",
   "metadata": {},
   "outputs": [
    {
     "name": "stdout",
     "output_type": "stream",
     "text": [
      "[7, 9, 4, 0]\n"
     ]
    }
   ],
   "source": [
    "# para escolher aleatoriamente uma amostra de elementos com substituição\n",
    "\n",
    "four_with_replacement = [random.choice(range(10)) for _ in range(4)]\n",
    "print(four_with_replacement)"
   ]
  },
  {
   "cell_type": "markdown",
   "id": "81ec0926",
   "metadata": {},
   "source": [
    "### Expressões Regulares"
   ]
  },
  {
   "cell_type": "code",
   "execution_count": 303,
   "id": "7f02cc6a",
   "metadata": {},
   "outputs": [],
   "source": [
    "import re"
   ]
  },
  {
   "cell_type": "code",
   "execution_count": 311,
   "id": "03d9c2a3",
   "metadata": {},
   "outputs": [
    {
     "data": {
      "text/plain": [
       "[True, <re.Match object; span=(1, 2), match='a'>, True, True, True]"
      ]
     },
     "execution_count": 311,
     "metadata": {},
     "output_type": "execute_result"
    }
   ],
   "source": [
    "re_examples = [not re.match(\"a\", \"cat\"), \n",
    "               re.search(\"a\", \"cat\"), \n",
    "               not re.search(\"c\", \"dog\"), \n",
    "               3 == len(re.split(\"[a,b]\", \"carbs\")),\n",
    "               \"R-D-\" == re.sub(\"[0-9]\", \"-\", \"R2D2\")]\n",
    "re_examples"
   ]
  },
  {
   "cell_type": "code",
   "execution_count": 312,
   "id": "8187936a",
   "metadata": {},
   "outputs": [],
   "source": [
    "assert all(re_examples)"
   ]
  },
  {
   "cell_type": "markdown",
   "id": "a6fa12b2",
   "metadata": {},
   "source": [
    "### Programação Funcional\n",
    "\n",
    "partial, map, reduce e filter"
   ]
  },
  {
   "cell_type": "code",
   "execution_count": null,
   "id": "47d8b1f9",
   "metadata": {},
   "outputs": [],
   "source": []
  },
  {
   "cell_type": "markdown",
   "id": "8d87306c",
   "metadata": {},
   "source": [
    "### Zip e Descompactação de Argumentos"
   ]
  },
  {
   "cell_type": "code",
   "execution_count": 313,
   "id": "35dd25a5",
   "metadata": {},
   "outputs": [],
   "source": [
    "list1 = ['a', 'b', 'c']\n",
    "list2 = [1, 2, 3]"
   ]
  },
  {
   "cell_type": "code",
   "execution_count": 314,
   "id": "c31fa38e",
   "metadata": {},
   "outputs": [
    {
     "data": {
      "text/plain": [
       "[('a', 1), ('b', 2), ('c', 3)]"
      ]
     },
     "execution_count": 314,
     "metadata": {},
     "output_type": "execute_result"
    }
   ],
   "source": [
    "# como zip é lento você tem que fazer algo parecido com isso\n",
    "\n",
    "[pair for pair in zip(list1, list2)]"
   ]
  },
  {
   "cell_type": "code",
   "execution_count": 317,
   "id": "1ea5fde6",
   "metadata": {},
   "outputs": [
    {
     "name": "stdout",
     "output_type": "stream",
     "text": [
      "('a', 'b', 'c') (1, 2, 3)\n"
     ]
    }
   ],
   "source": [
    "pairs = [pair for pair in zip(list1, list2)]\n",
    "letters, numbers = zip(*pairs)\n",
    "\n",
    "print(letters,numbers)"
   ]
  },
  {
   "cell_type": "code",
   "execution_count": 318,
   "id": "6a404c5b",
   "metadata": {},
   "outputs": [
    {
     "data": {
      "text/plain": [
       "3"
      ]
     },
     "execution_count": 318,
     "metadata": {},
     "output_type": "execute_result"
    }
   ],
   "source": [
    "def add(a, b): return a + b\n",
    "\n",
    "add(1,2)"
   ]
  },
  {
   "cell_type": "code",
   "execution_count": 319,
   "id": "0a9536ad",
   "metadata": {},
   "outputs": [
    {
     "name": "stdout",
     "output_type": "stream",
     "text": [
      "add expect two inputs\n"
     ]
    }
   ],
   "source": [
    "try:\n",
    "    add([1,2])\n",
    "except TypeError:\n",
    "    print(\"add expect two inputs\")"
   ]
  },
  {
   "cell_type": "code",
   "execution_count": 320,
   "id": "461c69d1",
   "metadata": {},
   "outputs": [
    {
     "data": {
      "text/plain": [
       "3"
      ]
     },
     "execution_count": 320,
     "metadata": {},
     "output_type": "execute_result"
    }
   ],
   "source": [
    "# é raro usar isso, mas quando usa é engenhoso\n",
    "\n",
    "add(*[1,2])"
   ]
  },
  {
   "cell_type": "markdown",
   "id": "773851f3",
   "metadata": {},
   "source": [
    "### Args e Kwargs"
   ]
  },
  {
   "cell_type": "code",
   "execution_count": 321,
   "id": "1eba85d3",
   "metadata": {},
   "outputs": [],
   "source": [
    "# uma função que manterm referencia a f\n",
    "\n",
    "def doubler(f):\n",
    "    def g(x):\n",
    "        return 2*f(x)\n",
    "    \n",
    "    return g"
   ]
  },
  {
   "cell_type": "code",
   "execution_count": 322,
   "id": "d07ff644",
   "metadata": {},
   "outputs": [],
   "source": [
    "def f1(x):\n",
    "    return x+1"
   ]
  },
  {
   "cell_type": "code",
   "execution_count": 325,
   "id": "edac9a3e",
   "metadata": {},
   "outputs": [],
   "source": [
    "g = doubler(f1)\n",
    "\n",
    "assert g(3) == 8   # (3+1)*2 = 8\n",
    "assert g(-1) == 0  # (-1+1)*2 = 0"
   ]
  },
  {
   "cell_type": "code",
   "execution_count": 326,
   "id": "6a7768d8",
   "metadata": {},
   "outputs": [],
   "source": [
    "# no entanto isso não funciona quando a função recebe mais argumentos\n",
    "\n",
    "def f2(x, y):\n",
    "    return x + y"
   ]
  },
  {
   "cell_type": "code",
   "execution_count": 327,
   "id": "0640231c",
   "metadata": {},
   "outputs": [
    {
     "name": "stdout",
     "output_type": "stream",
     "text": [
      "as defined, g only takes one argument\n"
     ]
    }
   ],
   "source": [
    "g = doubler(f2)\n",
    "\n",
    "try: \n",
    "    g(1, 2)\n",
    "except TypeError:\n",
    "    print(\"as defined, g only takes one argument\")"
   ]
  },
  {
   "cell_type": "code",
   "execution_count": 329,
   "id": "a3ec7662",
   "metadata": {},
   "outputs": [],
   "source": [
    "# args é uma tupla dos seus argumentos sem nome e kwargs é um dicionário com seus argumentos nomeados\n",
    "\n",
    "def magic(*args, **kwargs):\n",
    "    print(\"unnamed args:\", args)\n",
    "    print(\"keyword args:\", kwargs)"
   ]
  },
  {
   "cell_type": "code",
   "execution_count": 331,
   "id": "4a313fcf",
   "metadata": {},
   "outputs": [
    {
     "name": "stdout",
     "output_type": "stream",
     "text": [
      "unnamed args: (1, 2)\n",
      "keyword args: {'key': 'word', 'key2': 'word2'}\n"
     ]
    }
   ],
   "source": [
    "magic(1, 2, key=\"word\", key2=\"word2\")"
   ]
  },
  {
   "cell_type": "code",
   "execution_count": 334,
   "id": "cfa36648",
   "metadata": {},
   "outputs": [],
   "source": [
    "def other_magic(x, y, z):\n",
    "    return x + y + z"
   ]
  },
  {
   "cell_type": "code",
   "execution_count": 336,
   "id": "d5cc1f22",
   "metadata": {},
   "outputs": [],
   "source": [
    "x_y_list = [1, 2]\n",
    "z_dict = {\"z\": 3}\n",
    "\n",
    "assert other_magic(*x_y_list, **z_dict) == 6   # (1 + 2 + 3)"
   ]
  },
  {
   "cell_type": "code",
   "execution_count": 337,
   "id": "a4885f3e",
   "metadata": {},
   "outputs": [],
   "source": [
    "# o que faz mais sentido é utilizar com funções de alta ordem\n",
    "\n",
    "def doubler_correct(f):\n",
    "    def g(*args, **kwargs):\n",
    "        return 2 * f(*args, **kwargs)\n",
    "    return g"
   ]
  },
  {
   "cell_type": "code",
   "execution_count": 340,
   "id": "48cd7b25",
   "metadata": {},
   "outputs": [],
   "source": [
    "g = doubler_correct(f2)\n",
    "\n",
    "assert g(1, 2) == 6 "
   ]
  },
  {
   "cell_type": "markdown",
   "id": "10b72083",
   "metadata": {},
   "source": [
    "### Anotações de Tipo\n",
    "\n",
    "python é uma linguagem tipada dinamicamente, ou seja, geralmente não se importa com os tipos dos objetos se forem utilzados de forma válida"
   ]
  },
  {
   "cell_type": "code",
   "execution_count": 341,
   "id": "cef218e2",
   "metadata": {},
   "outputs": [],
   "source": [
    "def total(xs: list) -> float:\n",
    "    return sum(total)"
   ]
  },
  {
   "cell_type": "code",
   "execution_count": 342,
   "id": "35c54d9a",
   "metadata": {},
   "outputs": [],
   "source": [
    "from typing import List\n",
    "\n",
    "def total(xs: List[float]) -> float:\n",
    "    return sum(total)"
   ]
  },
  {
   "cell_type": "code",
   "execution_count": 344,
   "id": "179b6290",
   "metadata": {},
   "outputs": [],
   "source": [
    "from typing import Optional\n",
    "\n",
    "values: List[int] = []\n",
    "best_so_far: Optional[float] = None"
   ]
  },
  {
   "cell_type": "code",
   "execution_count": 348,
   "id": "15b62bad",
   "metadata": {},
   "outputs": [],
   "source": [
    "from typing import Dict, Iterable, Tuple\n",
    "\n",
    "counts: Dict[str, int] = {}\n",
    "    \n",
    "if counts:\n",
    "    evens: Iterable[int] = (x for x in range(10) if x % 2 == 0)\n",
    "else:\n",
    "    evens = [0, 2, 4, 6, 8]\n",
    "    \n",
    "triple: Tuple[int, float, int] = (10, 2.3, 5)"
   ]
  },
  {
   "cell_type": "code",
   "execution_count": 352,
   "id": "5d66a15b",
   "metadata": {},
   "outputs": [],
   "source": [
    "from typing import Callable\n",
    "\n",
    "def twice(repeater: Callable[[str, int], str], s: str) -> str:\n",
    "    return repeater (s, 2)\n",
    "\n",
    "def comman_repeater(s: str, n: int) -> str:\n",
    "    n_copies = [s for _ in range(n)]\n",
    "    return ', '.join(n_copies)\n",
    "\n",
    "assert twice(comman_repeater, \"type hints\") == \"type hints, type hints\""
   ]
  },
  {
   "cell_type": "code",
   "execution_count": 357,
   "id": "6c96c3b7",
   "metadata": {},
   "outputs": [],
   "source": [
    "# como anotações de tipo são objetos python podemos atribuilas a variaveis para facilitar referencias\n",
    "\n",
    "Number = int\n",
    "Numbers = List[Number]\n",
    "    \n",
    "def total(xs: Numbers) -> Numbers:\n",
    "    return sum(xs)"
   ]
  }
 ],
 "metadata": {
  "kernelspec": {
   "display_name": "Python 3 (ipykernel)",
   "language": "python",
   "name": "python3"
  },
  "language_info": {
   "codemirror_mode": {
    "name": "ipython",
    "version": 3
   },
   "file_extension": ".py",
   "mimetype": "text/x-python",
   "name": "python",
   "nbconvert_exporter": "python",
   "pygments_lexer": "ipython3",
   "version": "3.10.9"
  }
 },
 "nbformat": 4,
 "nbformat_minor": 5
}
